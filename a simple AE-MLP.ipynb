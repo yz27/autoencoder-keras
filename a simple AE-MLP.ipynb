{
 "cells": [
  {
   "cell_type": "code",
   "execution_count": 1,
   "metadata": {
    "collapsed": true
   },
   "outputs": [],
   "source": [
    "from keras.layers import Input, Dense\n",
    "from keras.models import Model\n"
   ]
  },
  {
   "cell_type": "code",
   "execution_count": 2,
   "metadata": {
    "collapsed": true
   },
   "outputs": [],
   "source": [
    "encoding_dim = 32\n",
    "img_dim = 784\n",
    "input_img = Input(shape=(img_dim,))\n",
    "encoded = Dense(encoding_dim, activation='relu')(input_img)\n",
    "decoded = Dense(img_dim, activation='sigmoid')(encoded)\n",
    "\n",
    "autoencoder = Model(input_img, decoded)\n",
    "encoder = Model(input_img, encoded)"
   ]
  },
  {
   "cell_type": "code",
   "execution_count": 6,
   "metadata": {},
   "outputs": [
    {
     "data": {
      "text/plain": [
       "[<keras.engine.input_layer.InputLayer at 0x1d4e3758a90>,\n",
       " <keras.layers.core.Dense at 0x1d4e376d438>,\n",
       " <keras.layers.core.Dense at 0x1d4e376dfd0>]"
      ]
     },
     "execution_count": 6,
     "metadata": {},
     "output_type": "execute_result"
    }
   ],
   "source": [
    "autoencoder.layers"
   ]
  },
  {
   "cell_type": "code",
   "execution_count": 7,
   "metadata": {
    "collapsed": true
   },
   "outputs": [],
   "source": [
    "encoded_input = Input(shape=(encoding_dim,))\n",
    "decoder_layer = autoencoder.layers[-1]\n",
    "decoder = Model(encoded_input, decoder_layer(encoded_input))"
   ]
  },
  {
   "cell_type": "code",
   "execution_count": 8,
   "metadata": {
    "collapsed": true
   },
   "outputs": [],
   "source": [
    "autoencoder.compile(optimizer='adadelta', loss='binary_crossentropy')"
   ]
  },
  {
   "cell_type": "code",
   "execution_count": 9,
   "metadata": {
    "collapsed": true
   },
   "outputs": [],
   "source": [
    "from keras.datasets import mnist\n",
    "import numpy as np\n",
    "(X_train, _), (X_test, _) = mnist.load_data()"
   ]
  },
  {
   "cell_type": "code",
   "execution_count": 10,
   "metadata": {
    "collapsed": true
   },
   "outputs": [],
   "source": [
    "X_train = X_train.astype('float32') / 255.\n",
    "X_test = X_test.astype('float32') / 255.\n",
    "X_train = X_train.reshape((len(X_train), np.prod(X_train.shape[1:])))\n",
    "X_test = X_test.reshape((len(X_test), np.prod(X_test.shape[1:])))"
   ]
  },
  {
   "cell_type": "code",
   "execution_count": 11,
   "metadata": {},
   "outputs": [
    {
     "name": "stdout",
     "output_type": "stream",
     "text": [
      "(10000, 784) (60000, 784)\n"
     ]
    }
   ],
   "source": [
    "print(X_test.shape, X_train.shape)"
   ]
  },
  {
   "cell_type": "code",
   "execution_count": 14,
   "metadata": {
    "collapsed": true
   },
   "outputs": [
    {
     "name": "stdout",
     "output_type": "stream",
     "text": [
      "Train on 60000 samples, validate on 10000 samples\n",
      "Epoch 1/50\n",
      "60000/60000 [==============================] - 4s 62us/step - loss: 0.3591 - val_loss: 0.2712\n",
      "Epoch 2/50\n",
      "60000/60000 [==============================] - 1s 11us/step - loss: 0.2639 - val_loss: 0.2530\n",
      "Epoch 3/50\n",
      "60000/60000 [==============================] - 1s 11us/step - loss: 0.2421 - val_loss: 0.2288\n",
      "Epoch 4/50\n",
      "60000/60000 [==============================] - 1s 11us/step - loss: 0.2204 - val_loss: 0.2100\n",
      "Epoch 5/50\n",
      "60000/60000 [==============================] - 1s 11us/step - loss: 0.2051 - val_loss: 0.1975\n",
      "Epoch 6/50\n",
      "60000/60000 [==============================] - 1s 11us/step - loss: 0.1939 - val_loss: 0.1875\n",
      "Epoch 7/50\n",
      "60000/60000 [==============================] - 1s 11us/step - loss: 0.1849 - val_loss: 0.1795\n",
      "Epoch 8/50\n",
      "60000/60000 [==============================] - 1s 11us/step - loss: 0.1774 - val_loss: 0.1726\n",
      "Epoch 9/50\n",
      "60000/60000 [==============================] - 1s 11us/step - loss: 0.1712 - val_loss: 0.1670\n",
      "Epoch 10/50\n",
      "60000/60000 [==============================] - 1s 11us/step - loss: 0.1659 - val_loss: 0.1623\n",
      "Epoch 11/50\n",
      "60000/60000 [==============================] - 1s 11us/step - loss: 0.1614 - val_loss: 0.1577\n",
      "Epoch 12/50\n",
      "60000/60000 [==============================] - 1s 11us/step - loss: 0.1572 - val_loss: 0.1538\n",
      "Epoch 13/50\n",
      "60000/60000 [==============================] - 1s 11us/step - loss: 0.1534 - val_loss: 0.1502\n",
      "Epoch 14/50\n",
      "60000/60000 [==============================] - 1s 11us/step - loss: 0.1499 - val_loss: 0.1469\n",
      "Epoch 15/50\n",
      "60000/60000 [==============================] - 1s 11us/step - loss: 0.1467 - val_loss: 0.1437\n",
      "Epoch 16/50\n",
      "60000/60000 [==============================] - 1s 11us/step - loss: 0.1438 - val_loss: 0.1409\n",
      "Epoch 17/50\n",
      "60000/60000 [==============================] - 1s 10us/step - loss: 0.1411 - val_loss: 0.1383\n",
      "Epoch 18/50\n",
      "60000/60000 [==============================] - 1s 11us/step - loss: 0.1386 - val_loss: 0.1359\n",
      "Epoch 19/50\n",
      "60000/60000 [==============================] - 1s 11us/step - loss: 0.1362 - val_loss: 0.1337\n",
      "Epoch 20/50\n",
      "60000/60000 [==============================] - 1s 11us/step - loss: 0.1341 - val_loss: 0.1316\n",
      "Epoch 21/50\n",
      "60000/60000 [==============================] - 1s 11us/step - loss: 0.1320 - val_loss: 0.1295\n",
      "Epoch 22/50\n",
      "60000/60000 [==============================] - 1s 11us/step - loss: 0.1300 - val_loss: 0.1276\n",
      "Epoch 23/50\n",
      "60000/60000 [==============================] - 1s 11us/step - loss: 0.1281 - val_loss: 0.1258\n",
      "Epoch 24/50\n",
      "60000/60000 [==============================] - 1s 11us/step - loss: 0.1263 - val_loss: 0.1240\n",
      "Epoch 25/50\n",
      "60000/60000 [==============================] - 1s 11us/step - loss: 0.1246 - val_loss: 0.1224\n",
      "Epoch 26/50\n",
      "60000/60000 [==============================] - 1s 11us/step - loss: 0.1229 - val_loss: 0.1207\n",
      "Epoch 27/50\n",
      "60000/60000 [==============================] - 1s 11us/step - loss: 0.1214 - val_loss: 0.1193\n",
      "Epoch 28/50\n",
      "60000/60000 [==============================] - 1s 11us/step - loss: 0.1199 - val_loss: 0.1177\n",
      "Epoch 29/50\n",
      "60000/60000 [==============================] - 1s 11us/step - loss: 0.1185 - val_loss: 0.1165\n",
      "Epoch 30/50\n",
      "60000/60000 [==============================] - 1s 11us/step - loss: 0.1172 - val_loss: 0.1151\n",
      "Epoch 31/50\n",
      "60000/60000 [==============================] - 1s 11us/step - loss: 0.1160 - val_loss: 0.1139\n",
      "Epoch 32/50\n",
      "60000/60000 [==============================] - 1s 11us/step - loss: 0.1149 - val_loss: 0.1128\n",
      "Epoch 33/50\n",
      "60000/60000 [==============================] - 1s 11us/step - loss: 0.1138 - val_loss: 0.1118\n",
      "Epoch 34/50\n",
      "60000/60000 [==============================] - 1s 11us/step - loss: 0.1128 - val_loss: 0.1108\n",
      "Epoch 35/50\n",
      "60000/60000 [==============================] - 1s 11us/step - loss: 0.1119 - val_loss: 0.1099\n",
      "Epoch 36/50\n",
      "60000/60000 [==============================] - 1s 11us/step - loss: 0.1110 - val_loss: 0.1090\n",
      "Epoch 37/50\n",
      "60000/60000 [==============================] - 1s 11us/step - loss: 0.1102 - val_loss: 0.1082\n",
      "Epoch 38/50\n",
      "60000/60000 [==============================] - 1s 11us/step - loss: 0.1094 - val_loss: 0.1075\n",
      "Epoch 39/50\n",
      "60000/60000 [==============================] - 1s 11us/step - loss: 0.1087 - val_loss: 0.1068\n",
      "Epoch 40/50\n",
      "60000/60000 [==============================] - 1s 11us/step - loss: 0.1080 - val_loss: 0.1062\n",
      "Epoch 41/50\n",
      "60000/60000 [==============================] - 1s 11us/step - loss: 0.1074 - val_loss: 0.1056\n",
      "Epoch 42/50\n",
      "60000/60000 [==============================] - 1s 11us/step - loss: 0.1068 - val_loss: 0.1050\n",
      "Epoch 43/50\n",
      "60000/60000 [==============================] - 1s 11us/step - loss: 0.1063 - val_loss: 0.1045\n",
      "Epoch 44/50\n",
      "60000/60000 [==============================] - 1s 11us/step - loss: 0.1057 - val_loss: 0.1040\n",
      "Epoch 45/50\n",
      "60000/60000 [==============================] - 1s 11us/step - loss: 0.1053 - val_loss: 0.1034\n",
      "Epoch 46/50\n",
      "60000/60000 [==============================] - 1s 11us/step - loss: 0.1048 - val_loss: 0.1030\n",
      "Epoch 47/50\n",
      "60000/60000 [==============================] - 1s 11us/step - loss: 0.1043 - val_loss: 0.1026\n",
      "Epoch 48/50\n",
      "60000/60000 [==============================] - 1s 11us/step - loss: 0.1039 - val_loss: 0.1022\n",
      "Epoch 49/50\n",
      "60000/60000 [==============================] - 1s 11us/step - loss: 0.1035 - val_loss: 0.1018\n",
      "Epoch 50/50\n",
      "60000/60000 [==============================] - 1s 11us/step - loss: 0.1031 - val_loss: 0.1014\n"
     ]
    },
    {
     "data": {
      "text/plain": [
       "<keras.callbacks.History at 0x1d4e49957f0>"
      ]
     },
     "execution_count": 14,
     "metadata": {},
     "output_type": "execute_result"
    }
   ],
   "source": [
    "autoencoder.fit(X_train,\n",
    "                X_train, \n",
    "                epochs=50, \n",
    "                batch_size=256,\n",
    "               shuffle=True,\n",
    "               validation_data=(X_test, X_test),\n",
    "               )"
   ]
  },
  {
   "cell_type": "code",
   "execution_count": 17,
   "metadata": {},
   "outputs": [],
   "source": [
    "encoded_imgs = encoder.predict(X_test)\n",
    "decoded_imgs = decoder.predict(encoded_imgs)"
   ]
  },
  {
   "cell_type": "code",
   "execution_count": 19,
   "metadata": {
    "collapsed": true
   },
   "outputs": [],
   "source": [
    "import matplotlib.pyplot as plt\n",
    "%matplotlib inline"
   ]
  },
  {
   "cell_type": "code",
   "execution_count": 21,
   "metadata": {
    "collapsed": true
   },
   "outputs": [
    {
     "data": {
      "image/png": "[encoded data removed]",
      "text/plain": [
       "<Figure size 1440x288 with 20 Axes>"
      ]
     },
     "metadata": {},
     "output_type": "display_data"
    }
   ],
   "source": [
    "n = 10\n",
    "plt.figure(figsize=(20, 4))\n",
    "for i in range(n):\n",
    "    ax = plt.subplot(2, n, i+1)\n",
    "    plt.imshow(X_test[i].reshape(28,28))\n",
    "    plt.gray()\n",
    "    plt.axis('off')\n",
    "    \n",
    "    ax = plt.subplot(2, n, i + 1 + n)\n",
    "    plt.imshow(decoded_imgs[i].reshape(28, 28))\n",
    "    plt.gray()\n",
    "    ax.get_xaxis().set_visible(False)\n",
    "    ax.get_yaxis().set_visible(False)"
   ]
  },
  {
   "cell_type": "markdown",
   "metadata": {},
   "source": [
    "### Adding a sparsity constraint on the encoded representations"
   ]
  },
  {
   "cell_type": "code",
   "execution_count": 22,
   "metadata": {
    "collapsed": true
   },
   "outputs": [],
   "source": [
    "from keras import regularizers"
   ]
  },
  {
   "cell_type": "code",
   "execution_count": 23,
   "metadata": {
    "collapsed": true
   },
   "outputs": [],
   "source": [
    "encoding_dim = 32\n",
    "img_dim = 784\n",
    "input_img = Input(shape=(img_dim,))\n",
    "encoded = Dense(encoding_dim, activation='relu', activity_regularizer=regularizers.l1(10e-5))(input_img)\n",
    "decoded = Dense(img_dim, activation='sigmoid')(encoded)\n",
    "\n",
    "autoencoder = Model(input_img, decoded)\n",
    "autoencoder.compile(optimizer='adadelta', loss='binary_crossentropy')"
   ]
  },
  {
   "cell_type": "code",
   "execution_count": 24,
   "metadata": {
    "collapsed": true
   },
   "outputs": [
    {
     "name": "stdout",
     "output_type": "stream",
     "text": [
      "Train on 60000 samples, validate on 10000 samples\n",
      "Epoch 1/100\n",
      "60000/60000 [==============================] - 1s 15us/step - loss: 0.6733 - val_loss: 0.6485\n",
      "Epoch 2/100\n",
      "60000/60000 [==============================] - 1s 12us/step - loss: 0.6284 - val_loss: 0.6090\n",
      "Epoch 3/100\n",
      "60000/60000 [==============================] - 1s 12us/step - loss: 0.5916 - val_loss: 0.5749\n",
      "Epoch 4/100\n",
      "60000/60000 [==============================] - 1s 12us/step - loss: 0.5598 - val_loss: 0.5454\n",
      "Epoch 5/100\n",
      "60000/60000 [==============================] - 1s 12us/step - loss: 0.5323 - val_loss: 0.5198\n",
      "Epoch 6/100\n",
      "60000/60000 [==============================] - 1s 12us/step - loss: 0.5084 - val_loss: 0.4975\n",
      "Epoch 7/100\n",
      "60000/60000 [==============================] - 1s 12us/step - loss: 0.4875 - val_loss: 0.4780\n",
      "Epoch 8/100\n",
      "60000/60000 [==============================] - 1s 12us/step - loss: 0.4692 - val_loss: 0.4609\n",
      "Epoch 9/100\n",
      "60000/60000 [==============================] - 1s 12us/step - loss: 0.4531 - val_loss: 0.4457\n",
      "Epoch 10/100\n",
      "60000/60000 [==============================] - 1s 12us/step - loss: 0.4389 - val_loss: 0.4324\n",
      "Epoch 11/100\n",
      "60000/60000 [==============================] - 1s 12us/step - loss: 0.4262 - val_loss: 0.4205\n",
      "Epoch 12/100\n",
      "60000/60000 [==============================] - 1s 12us/step - loss: 0.4150 - val_loss: 0.4098\n",
      "Epoch 13/100\n",
      "60000/60000 [==============================] - 1s 12us/step - loss: 0.4049 - val_loss: 0.4003\n",
      "Epoch 14/100\n",
      "60000/60000 [==============================] - 1s 12us/step - loss: 0.3959 - val_loss: 0.3918\n",
      "Epoch 15/100\n",
      "60000/60000 [==============================] - 1s 12us/step - loss: 0.3877 - val_loss: 0.3840\n",
      "Epoch 16/100\n",
      "60000/60000 [==============================] - 1s 12us/step - loss: 0.3804 - val_loss: 0.3771\n",
      "Epoch 17/100\n",
      "60000/60000 [==============================] - 1s 12us/step - loss: 0.3737 - val_loss: 0.3707\n",
      "Epoch 18/100\n",
      "60000/60000 [==============================] - 1s 12us/step - loss: 0.3676 - val_loss: 0.3649\n",
      "Epoch 19/100\n",
      "60000/60000 [==============================] - 1s 12us/step - loss: 0.3621 - val_loss: 0.3596\n",
      "Epoch 20/100\n",
      "60000/60000 [==============================] - 1s 12us/step - loss: 0.3570 - val_loss: 0.3548\n",
      "Epoch 21/100\n",
      "60000/60000 [==============================] - 1s 12us/step - loss: 0.3524 - val_loss: 0.3503\n",
      "Epoch 22/100\n",
      "60000/60000 [==============================] - 1s 12us/step - loss: 0.3481 - val_loss: 0.3463\n",
      "Epoch 23/100\n",
      "60000/60000 [==============================] - 1s 11us/step - loss: 0.3442 - val_loss: 0.3425\n",
      "Epoch 24/100\n",
      "60000/60000 [==============================] - 1s 11us/step - loss: 0.3406 - val_loss: 0.3390\n",
      "Epoch 25/100\n",
      "60000/60000 [==============================] - 1s 11us/step - loss: 0.3372 - val_loss: 0.3357\n",
      "Epoch 26/100\n",
      "60000/60000 [==============================] - 1s 11us/step - loss: 0.3341 - val_loss: 0.3327\n",
      "Epoch 27/100\n",
      "60000/60000 [==============================] - 1s 11us/step - loss: 0.3312 - val_loss: 0.3299\n",
      "Epoch 28/100\n",
      "60000/60000 [==============================] - 1s 11us/step - loss: 0.3285 - val_loss: 0.3273\n",
      "Epoch 29/100\n",
      "60000/60000 [==============================] - 1s 12us/step - loss: 0.3259 - val_loss: 0.3249\n",
      "Epoch 30/100\n",
      "60000/60000 [==============================] - 1s 12us/step - loss: 0.3236 - val_loss: 0.3226\n",
      "Epoch 31/100\n",
      "60000/60000 [==============================] - 1s 12us/step - loss: 0.3213 - val_loss: 0.3204\n",
      "Epoch 32/100\n",
      "60000/60000 [==============================] - 1s 12us/step - loss: 0.3193 - val_loss: 0.3184\n",
      "Epoch 33/100\n",
      "60000/60000 [==============================] - 1s 12us/step - loss: 0.3173 - val_loss: 0.3165\n",
      "Epoch 34/100\n",
      "60000/60000 [==============================] - 1s 12us/step - loss: 0.3155 - val_loss: 0.3147\n",
      "Epoch 35/100\n",
      "60000/60000 [==============================] - 1s 12us/step - loss: 0.3138 - val_loss: 0.3131\n",
      "Epoch 36/100\n",
      "60000/60000 [==============================] - 1s 11us/step - loss: 0.3121 - val_loss: 0.3115\n",
      "Epoch 37/100\n",
      "60000/60000 [==============================] - 1s 12us/step - loss: 0.3106 - val_loss: 0.3100\n",
      "Epoch 38/100\n",
      "60000/60000 [==============================] - 1s 12us/step - loss: 0.3091 - val_loss: 0.3085\n",
      "Epoch 39/100\n",
      "60000/60000 [==============================] - 1s 12us/step - loss: 0.3077 - val_loss: 0.3072\n",
      "Epoch 40/100\n",
      "60000/60000 [==============================] - 1s 11us/step - loss: 0.3064 - val_loss: 0.3059\n",
      "Epoch 41/100\n",
      "60000/60000 [==============================] - 1s 11us/step - loss: 0.3052 - val_loss: 0.3047\n",
      "Epoch 42/100\n",
      "60000/60000 [==============================] - 1s 11us/step - loss: 0.3040 - val_loss: 0.3035\n",
      "Epoch 43/100\n",
      "60000/60000 [==============================] - 1s 11us/step - loss: 0.3029 - val_loss: 0.3024\n",
      "Epoch 44/100\n",
      "60000/60000 [==============================] - 1s 11us/step - loss: 0.3018 - val_loss: 0.3014\n",
      "Epoch 45/100\n",
      "60000/60000 [==============================] - 1s 12us/step - loss: 0.3008 - val_loss: 0.3004\n",
      "Epoch 46/100\n",
      "60000/60000 [==============================] - 1s 11us/step - loss: 0.2998 - val_loss: 0.2994\n",
      "Epoch 47/100\n",
      "60000/60000 [==============================] - 1s 11us/step - loss: 0.2989 - val_loss: 0.2985\n",
      "Epoch 48/100\n",
      "60000/60000 [==============================] - 1s 11us/step - loss: 0.2980 - val_loss: 0.2976\n",
      "Epoch 49/100\n",
      "60000/60000 [==============================] - 1s 11us/step - loss: 0.2971 - val_loss: 0.2968\n",
      "Epoch 50/100\n",
      "60000/60000 [==============================] - 1s 11us/step - loss: 0.2963 - val_loss: 0.2960\n",
      "Epoch 51/100\n",
      "60000/60000 [==============================] - 1s 11us/step - loss: 0.2955 - val_loss: 0.2952\n",
      "Epoch 52/100\n",
      "60000/60000 [==============================] - 1s 11us/step - loss: 0.2948 - val_loss: 0.2945\n",
      "Epoch 53/100\n",
      "60000/60000 [==============================] - 1s 11us/step - loss: 0.2941 - val_loss: 0.2938\n",
      "Epoch 54/100\n",
      "60000/60000 [==============================] - 1s 11us/step - loss: 0.2934 - val_loss: 0.2931\n",
      "Epoch 55/100\n",
      "60000/60000 [==============================] - 1s 11us/step - loss: 0.2927 - val_loss: 0.2925\n",
      "Epoch 56/100\n",
      "60000/60000 [==============================] - 1s 11us/step - loss: 0.2921 - val_loss: 0.2918\n",
      "Epoch 57/100\n",
      "60000/60000 [==============================] - 1s 11us/step - loss: 0.2915 - val_loss: 0.2912\n",
      "Epoch 58/100\n",
      "60000/60000 [==============================] - 1s 11us/step - loss: 0.2909 - val_loss: 0.2906\n",
      "Epoch 59/100\n",
      "60000/60000 [==============================] - 1s 11us/step - loss: 0.2903 - val_loss: 0.2901\n",
      "Epoch 60/100\n",
      "60000/60000 [==============================] - 1s 11us/step - loss: 0.2898 - val_loss: 0.2895\n",
      "Epoch 61/100\n",
      "60000/60000 [==============================] - 1s 11us/step - loss: 0.2892 - val_loss: 0.2890\n",
      "Epoch 62/100\n",
      "60000/60000 [==============================] - 1s 11us/step - loss: 0.2887 - val_loss: 0.2885\n",
      "Epoch 63/100\n",
      "60000/60000 [==============================] - 1s 11us/step - loss: 0.2882 - val_loss: 0.2880\n",
      "Epoch 64/100\n",
      "60000/60000 [==============================] - 1s 11us/step - loss: 0.2877 - val_loss: 0.2875\n",
      "Epoch 65/100\n",
      "60000/60000 [==============================] - 1s 11us/step - loss: 0.2873 - val_loss: 0.2871\n",
      "Epoch 66/100\n",
      "60000/60000 [==============================] - 1s 11us/step - loss: 0.2868 - val_loss: 0.2867\n",
      "Epoch 67/100\n",
      "60000/60000 [==============================] - 1s 11us/step - loss: 0.2864 - val_loss: 0.2862\n",
      "Epoch 68/100\n",
      "60000/60000 [==============================] - 1s 11us/step - loss: 0.2860 - val_loss: 0.2858\n",
      "Epoch 69/100\n",
      "60000/60000 [==============================] - 1s 11us/step - loss: 0.2856 - val_loss: 0.2854\n",
      "Epoch 70/100\n",
      "60000/60000 [==============================] - 1s 11us/step - loss: 0.2852 - val_loss: 0.2850\n",
      "Epoch 71/100\n",
      "60000/60000 [==============================] - 1s 11us/step - loss: 0.2848 - val_loss: 0.2846\n",
      "Epoch 72/100\n",
      "60000/60000 [==============================] - 1s 11us/step - loss: 0.2844 - val_loss: 0.2843\n",
      "Epoch 73/100\n",
      "60000/60000 [==============================] - 1s 11us/step - loss: 0.2841 - val_loss: 0.2839\n",
      "Epoch 74/100\n",
      "60000/60000 [==============================] - 1s 11us/step - loss: 0.2837 - val_loss: 0.2836\n",
      "Epoch 75/100\n",
      "60000/60000 [==============================] - 1s 11us/step - loss: 0.2834 - val_loss: 0.2832\n",
      "Epoch 76/100\n",
      "60000/60000 [==============================] - 1s 11us/step - loss: 0.2831 - val_loss: 0.2829\n",
      "Epoch 77/100\n"
     ]
    },
    {
     "name": "stdout",
     "output_type": "stream",
     "text": [
      "60000/60000 [==============================] - 1s 11us/step - loss: 0.2828 - val_loss: 0.2826\n",
      "Epoch 78/100\n",
      "60000/60000 [==============================] - 1s 11us/step - loss: 0.2825 - val_loss: 0.2823\n",
      "Epoch 79/100\n",
      "60000/60000 [==============================] - 1s 11us/step - loss: 0.2822 - val_loss: 0.2820\n",
      "Epoch 80/100\n",
      "60000/60000 [==============================] - 1s 11us/step - loss: 0.2819 - val_loss: 0.2817\n",
      "Epoch 81/100\n",
      "60000/60000 [==============================] - 1s 12us/step - loss: 0.2816 - val_loss: 0.2814\n",
      "Epoch 82/100\n",
      "60000/60000 [==============================] - 1s 11us/step - loss: 0.2813 - val_loss: 0.2812\n",
      "Epoch 83/100\n",
      "60000/60000 [==============================] - 1s 11us/step - loss: 0.2810 - val_loss: 0.2809\n",
      "Epoch 84/100\n",
      "60000/60000 [==============================] - 1s 11us/step - loss: 0.2808 - val_loss: 0.2806\n",
      "Epoch 85/100\n",
      "60000/60000 [==============================] - 1s 11us/step - loss: 0.2805 - val_loss: 0.2804\n",
      "Epoch 86/100\n",
      "60000/60000 [==============================] - 1s 11us/step - loss: 0.2803 - val_loss: 0.2801\n",
      "Epoch 87/100\n",
      "60000/60000 [==============================] - 1s 11us/step - loss: 0.2800 - val_loss: 0.2799\n",
      "Epoch 88/100\n",
      "60000/60000 [==============================] - 1s 12us/step - loss: 0.2798 - val_loss: 0.2796\n",
      "Epoch 89/100\n",
      "60000/60000 [==============================] - 1s 12us/step - loss: 0.2796 - val_loss: 0.2794\n",
      "Epoch 90/100\n",
      "60000/60000 [==============================] - 1s 12us/step - loss: 0.2793 - val_loss: 0.2792\n",
      "Epoch 91/100\n",
      "60000/60000 [==============================] - 1s 13us/step - loss: 0.2791 - val_loss: 0.2790\n",
      "Epoch 92/100\n",
      "60000/60000 [==============================] - 1s 12us/step - loss: 0.2789 - val_loss: 0.2788\n",
      "Epoch 93/100\n",
      "60000/60000 [==============================] - 1s 12us/step - loss: 0.2787 - val_loss: 0.2785\n",
      "Epoch 94/100\n",
      "60000/60000 [==============================] - 1s 12us/step - loss: 0.2785 - val_loss: 0.2783\n",
      "Epoch 95/100\n",
      "60000/60000 [==============================] - 1s 12us/step - loss: 0.2783 - val_loss: 0.2781\n",
      "Epoch 96/100\n",
      "60000/60000 [==============================] - 1s 12us/step - loss: 0.2781 - val_loss: 0.2779\n",
      "Epoch 97/100\n",
      "60000/60000 [==============================] - 1s 11us/step - loss: 0.2779 - val_loss: 0.2778\n",
      "Epoch 98/100\n",
      "60000/60000 [==============================] - 1s 12us/step - loss: 0.2777 - val_loss: 0.2776\n",
      "Epoch 99/100\n",
      "60000/60000 [==============================] - 1s 11us/step - loss: 0.2775 - val_loss: 0.2774\n",
      "Epoch 100/100\n",
      "60000/60000 [==============================] - 1s 11us/step - loss: 0.2774 - val_loss: 0.2772\n"
     ]
    },
    {
     "data": {
      "text/plain": [
       "<keras.callbacks.History at 0x1d4f2a16400>"
      ]
     },
     "execution_count": 24,
     "metadata": {},
     "output_type": "execute_result"
    }
   ],
   "source": [
    "autoencoder.fit(X_train,\n",
    "                X_train, \n",
    "                epochs=100, \n",
    "                batch_size=256,\n",
    "               shuffle=True,\n",
    "               validation_data=(X_test, X_test),\n",
    "               )"
   ]
  },
  {
   "cell_type": "code",
   "execution_count": 25,
   "metadata": {},
   "outputs": [
    {
     "data": {
      "image/png": "[encoded data removed]",
      "text/plain": [
       "<Figure size 1440x288 with 20 Axes>"
      ]
     },
     "metadata": {},
     "output_type": "display_data"
    }
   ],
   "source": [
    "n = 10\n",
    "plt.figure(figsize=(20, 4))\n",
    "for i in range(n):\n",
    "    ax = plt.subplot(2, n, i+1)\n",
    "    plt.imshow(X_test[i].reshape(28,28))\n",
    "    plt.gray()\n",
    "    plt.axis('off')\n",
    "    \n",
    "    ax = plt.subplot(2, n, i + 1 + n)\n",
    "    plt.imshow(decoded_imgs[i].reshape(28, 28))\n",
    "    plt.gray()\n",
    "    ax.get_xaxis().set_visible(False)\n",
    "    ax.get_yaxis().set_visible(False)"
   ]
  },
  {
   "cell_type": "code",
   "execution_count": null,
   "metadata": {
    "collapsed": true
   },
   "outputs": [],
   "source": []
  }
 ],
 "metadata": {
  "kernelspec": {
   "display_name": "Python 3",
   "language": "python",
   "name": "python3"
  },
  "language_info": {
   "codemirror_mode": {
    "name": "ipython",
    "version": 3
   },
   "file_extension": ".py",
   "mimetype": "text/x-python",
   "name": "python",
   "nbconvert_exporter": "python",
   "pygments_lexer": "ipython3",
   "version": "3.6.2"
  }
 },
 "nbformat": 4,
 "nbformat_minor": 2
}
