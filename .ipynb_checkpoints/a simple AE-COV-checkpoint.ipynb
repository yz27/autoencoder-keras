{
 "cells": [
  {
   "cell_type": "code",
   "execution_count": 1,
   "metadata": {},
   "outputs": [
    {
     "name": "stderr",
     "output_type": "stream",
     "text": [
      "Using TensorFlow backend.\n"
     ]
    }
   ],
   "source": [
    "from keras.layers import Input, Dense, Conv2D, MaxPooling2D, UpSampling2D\n",
    "from keras.models import Model\n",
    "import keras.backend as K"
   ]
  },
  {
   "cell_type": "code",
   "execution_count": 2,
   "metadata": {
    "collapsed": true
   },
   "outputs": [],
   "source": [
    "input_img = Input(shape=(28, 28, 1))\n",
    "\n",
    "x = Conv2D(16, (3, 3), strides=(1,1), activation='relu', padding='same')(input_img)\n",
    "x = MaxPooling2D((2,2),padding='same')(x)\n",
    "x = Conv2D(8, (3, 3), strides=(1,1), activation='relu', padding='same')(x)\n",
    "x = MaxPooling2D((2,2),padding='same')(x)\n",
    "x = Conv2D(8, (3, 3), strides=(1,1), activation='relu', padding='same')(x)\n",
    "encoded = MaxPooling2D((2,2),padding='same')(x)\n",
    "\n",
    "\n",
    "x = Conv2D(8, (3, 3), activation='relu', padding='same')(encoded)\n",
    "x = UpSampling2D((2, 2))(x)\n",
    "x = Conv2D(8, (3, 3), activation='relu', padding='same')(x)\n",
    "x = UpSampling2D((2, 2))(x)\n",
    "x = Conv2D(16, (3, 3), activation='relu')(x)\n",
    "x = UpSampling2D((2, 2))(x)\n",
    "decoded = Conv2D(1, (3, 3), activation='sigmoid', padding='same')(x)\n",
    "\n",
    "autoencoder = Model(input_img, decoded)\n",
    "autoencoder.compile(optimizer='adadelta', loss='binary_crossentropy')"
   ]
  },
  {
   "cell_type": "code",
   "execution_count": 3,
   "metadata": {
    "collapsed": true
   },
   "outputs": [],
   "source": [
    "from keras.utils import plot_model\n",
    "plot_model(autoencoder, to_file='ae_cov_autoencoder.png', show_shapes=True)"
   ]
  },
  {
   "cell_type": "code",
   "execution_count": 4,
   "metadata": {
    "collapsed": true
   },
   "outputs": [],
   "source": [
    "from keras.datasets import mnist\n",
    "import numpy as np\n",
    "(X_train, _), (X_test, _) = mnist.load_data()"
   ]
  },
  {
   "cell_type": "code",
   "execution_count": 5,
   "metadata": {
    "collapsed": true
   },
   "outputs": [],
   "source": [
    "X_train = X_train.astype('float32') / 255.\n",
    "X_test = X_test.astype('float32') / 255.\n",
    "X_train = X_train.reshape((len(X_train), 28, 28, 1))\n",
    "X_test = X_test.reshape((len(X_test), 28, 28, 1))"
   ]
  },
  {
   "cell_type": "code",
   "execution_count": 6,
   "metadata": {},
   "outputs": [
    {
     "name": "stdout",
     "output_type": "stream",
     "text": [
      "(60000, 28, 28, 1) (10000, 28, 28, 1)\n"
     ]
    }
   ],
   "source": [
    "print(X_train.shape, X_test.shape)"
   ]
  },
  {
   "cell_type": "code",
   "execution_count": 7,
   "metadata": {
    "collapsed": true
   },
   "outputs": [],
   "source": [
    "from keras.callbacks import TensorBoard"
   ]
  },
  {
   "cell_type": "code",
   "execution_count": 8,
   "metadata": {
    "collapsed": true
   },
   "outputs": [
    {
     "name": "stdout",
     "output_type": "stream",
     "text": [
      "Train on 60000 samples, validate on 10000 samples\n",
      "Epoch 1/50\n",
      "60000/60000 [==============================] - 4s 63us/step - loss: 0.2176 - val_loss: 0.1637\n",
      "Epoch 2/50\n",
      "60000/60000 [==============================] - 3s 50us/step - loss: 0.1580 - val_loss: 0.1522\n",
      "Epoch 3/50\n",
      "60000/60000 [==============================] - 3s 49us/step - loss: 0.1438 - val_loss: 0.1419\n",
      "Epoch 4/50\n",
      "60000/60000 [==============================] - 3s 50us/step - loss: 0.1358 - val_loss: 0.1323\n",
      "Epoch 5/50\n",
      "60000/60000 [==============================] - 3s 50us/step - loss: 0.1297 - val_loss: 0.1268\n",
      "Epoch 6/50\n",
      "60000/60000 [==============================] - 3s 50us/step - loss: 0.1251 - val_loss: 0.1214\n",
      "Epoch 7/50\n",
      "60000/60000 [==============================] - 3s 49us/step - loss: 0.1209 - val_loss: 0.1187\n",
      "Epoch 8/50\n",
      "60000/60000 [==============================] - 3s 49us/step - loss: 0.1185 - val_loss: 0.1134\n",
      "Epoch 9/50\n",
      "60000/60000 [==============================] - 3s 49us/step - loss: 0.1159 - val_loss: 0.1114\n",
      "Epoch 10/50\n",
      "60000/60000 [==============================] - 3s 50us/step - loss: 0.1140 - val_loss: 0.1116\n",
      "Epoch 11/50\n",
      "60000/60000 [==============================] - 3s 49us/step - loss: 0.1119 - val_loss: 0.1108\n",
      "Epoch 12/50\n",
      "60000/60000 [==============================] - 3s 50us/step - loss: 0.1107 - val_loss: 0.1093\n",
      "Epoch 13/50\n",
      "60000/60000 [==============================] - 3s 50us/step - loss: 0.1095 - val_loss: 0.1137\n",
      "Epoch 14/50\n",
      "60000/60000 [==============================] - 3s 50us/step - loss: 0.1081 - val_loss: 0.1068\n",
      "Epoch 15/50\n",
      "60000/60000 [==============================] - 3s 50us/step - loss: 0.1072 - val_loss: 0.1095\n",
      "Epoch 16/50\n",
      "60000/60000 [==============================] - 3s 51us/step - loss: 0.1062 - val_loss: 0.1054\n",
      "Epoch 17/50\n",
      "60000/60000 [==============================] - 3s 51us/step - loss: 0.1055 - val_loss: 0.1039\n",
      "Epoch 18/50\n",
      "60000/60000 [==============================] - 3s 50us/step - loss: 0.1048 - val_loss: 0.1033\n",
      "Epoch 19/50\n",
      "60000/60000 [==============================] - 3s 50us/step - loss: 0.1043 - val_loss: 0.1007\n",
      "Epoch 20/50\n",
      "60000/60000 [==============================] - 3s 52us/step - loss: 0.1038 - val_loss: 0.1026\n",
      "Epoch 21/50\n",
      "60000/60000 [==============================] - 3s 50us/step - loss: 0.1030 - val_loss: 0.1011\n",
      "Epoch 22/50\n",
      "60000/60000 [==============================] - 3s 50us/step - loss: 0.1029 - val_loss: 0.1020\n",
      "Epoch 23/50\n",
      "60000/60000 [==============================] - 3s 50us/step - loss: 0.1021 - val_loss: 0.1037\n",
      "Epoch 24/50\n",
      "60000/60000 [==============================] - 3s 50us/step - loss: 0.1020 - val_loss: 0.1000\n",
      "Epoch 25/50\n",
      "60000/60000 [==============================] - 3s 50us/step - loss: 0.1016 - val_loss: 0.0990\n",
      "Epoch 26/50\n",
      "60000/60000 [==============================] - 3s 50us/step - loss: 0.1015 - val_loss: 0.0993\n",
      "Epoch 27/50\n",
      "60000/60000 [==============================] - 3s 50us/step - loss: 0.1011 - val_loss: 0.0995\n",
      "Epoch 28/50\n",
      "60000/60000 [==============================] - 3s 49us/step - loss: 0.1004 - val_loss: 0.0995\n",
      "Epoch 29/50\n",
      "60000/60000 [==============================] - 3s 51us/step - loss: 0.1005 - val_loss: 0.0979\n",
      "Epoch 30/50\n",
      "60000/60000 [==============================] - 3s 50us/step - loss: 0.1000 - val_loss: 0.1008\n",
      "Epoch 31/50\n",
      "60000/60000 [==============================] - 3s 50us/step - loss: 0.0996 - val_loss: 0.0990\n",
      "Epoch 32/50\n",
      "60000/60000 [==============================] - 3s 50us/step - loss: 0.0994 - val_loss: 0.0982\n",
      "Epoch 33/50\n",
      "60000/60000 [==============================] - 3s 50us/step - loss: 0.0992 - val_loss: 0.0970\n",
      "Epoch 34/50\n",
      "60000/60000 [==============================] - 3s 49us/step - loss: 0.0991 - val_loss: 0.0988\n",
      "Epoch 35/50\n",
      "60000/60000 [==============================] - 3s 50us/step - loss: 0.0987 - val_loss: 0.1002\n",
      "Epoch 36/50\n",
      "60000/60000 [==============================] - 3s 50us/step - loss: 0.0986 - val_loss: 0.0976\n",
      "Epoch 37/50\n",
      "60000/60000 [==============================] - 3s 50us/step - loss: 0.0985 - val_loss: 0.0956\n",
      "Epoch 38/50\n",
      "60000/60000 [==============================] - 3s 50us/step - loss: 0.0983 - val_loss: 0.0976\n",
      "Epoch 39/50\n",
      "60000/60000 [==============================] - 3s 50us/step - loss: 0.0980 - val_loss: 0.0944\n",
      "Epoch 40/50\n",
      "60000/60000 [==============================] - 3s 49us/step - loss: 0.0980 - val_loss: 0.0963\n",
      "Epoch 41/50\n",
      "60000/60000 [==============================] - 3s 49us/step - loss: 0.0980 - val_loss: 0.0972\n",
      "Epoch 42/50\n",
      "60000/60000 [==============================] - 3s 50us/step - loss: 0.0979 - val_loss: 0.0984\n",
      "Epoch 43/50\n",
      "60000/60000 [==============================] - 3s 50us/step - loss: 0.0976 - val_loss: 0.0961\n",
      "Epoch 44/50\n",
      "60000/60000 [==============================] - 3s 50us/step - loss: 0.0973 - val_loss: 0.0963\n",
      "Epoch 45/50\n",
      "60000/60000 [==============================] - 3s 49us/step - loss: 0.0972 - val_loss: 0.0960\n",
      "Epoch 46/50\n",
      "60000/60000 [==============================] - 3s 50us/step - loss: 0.0970 - val_loss: 0.0961\n",
      "Epoch 47/50\n",
      "60000/60000 [==============================] - 3s 50us/step - loss: 0.0969 - val_loss: 0.0979\n",
      "Epoch 48/50\n",
      "60000/60000 [==============================] - 3s 50us/step - loss: 0.0967 - val_loss: 0.0943\n",
      "Epoch 49/50\n",
      "60000/60000 [==============================] - 3s 49us/step - loss: 0.0966 - val_loss: 0.0973\n",
      "Epoch 50/50\n",
      "60000/60000 [==============================] - 3s 50us/step - loss: 0.0965 - val_loss: 0.0977\n"
     ]
    },
    {
     "data": {
      "text/plain": [
       "<keras.callbacks.History at 0x20cc1e27278>"
      ]
     },
     "execution_count": 8,
     "metadata": {},
     "output_type": "execute_result"
    }
   ],
   "source": [
    "autoencoder.fit(X_train, X_train,\n",
    "                epochs=50,\n",
    "                batch_size=128,\n",
    "                shuffle=True,\n",
    "                validation_data=(X_test, X_test),\n",
    "                callbacks=[TensorBoard(log_dir='./tmp/autoencoder')]\n",
    "               )"
   ]
  },
  {
   "cell_type": "code",
   "execution_count": 10,
   "metadata": {
    "collapsed": true
   },
   "outputs": [],
   "source": [
    "import matplotlib.pyplot as plt\n",
    "%matplotlib inline"
   ]
  },
  {
   "cell_type": "code",
   "execution_count": 12,
   "metadata": {},
   "outputs": [
    {
     "data": {
      "image/png": "[encoded data removed]",
      "text/plain": [
       "<Figure size 1440x288 with 20 Axes>"
      ]
     },
     "metadata": {},
     "output_type": "display_data"
    }
   ],
   "source": [
    "decoded_imgs = autoencoder.predict(X_test)\n",
    "\n",
    "n = 10\n",
    "plt.figure(figsize=(20, 4))\n",
    "for i in range(n):\n",
    "    # display original\n",
    "    ax = plt.subplot(2, n, i+1)\n",
    "    plt.imshow(X_test[i].reshape(28, 28))\n",
    "    plt.gray()\n",
    "    ax.get_xaxis().set_visible(False)\n",
    "    ax.get_yaxis().set_visible(False)\n",
    "\n",
    "    # display reconstruction\n",
    "    ax = plt.subplot(2, n, i + n+1)\n",
    "    plt.imshow(decoded_imgs[i].reshape(28, 28))\n",
    "    plt.gray()\n",
    "    ax.get_xaxis().set_visible(False)\n",
    "    ax.get_yaxis().set_visible(False)\n",
    "plt.show()"
   ]
  },
  {
   "cell_type": "code",
   "execution_count": 15,
   "metadata": {
    "collapsed": true
   },
   "outputs": [
    {
     "data": {
      "image/png": "[encoded data removed]",
      "text/plain": [
       "<Figure size 1440x576 with 10 Axes>"
      ]
     },
     "metadata": {},
     "output_type": "display_data"
    }
   ],
   "source": [
    "encoder = Model(input_img, encoded)\n",
    "encoded_imgs = encoder.predict(X_test)\n",
    "n = 10\n",
    "plt.figure(figsize=(20, 8))\n",
    "for i in range(n):\n",
    "    ax = plt.subplot(1, n, i+1)\n",
    "    plt.imshow(encoded_imgs[i].reshape(4, 4 * 8).T)\n",
    "    plt.gray()\n",
    "    ax.get_xaxis().set_visible(False)\n",
    "    ax.get_yaxis().set_visible(False)\n",
    "plt.show()"
   ]
  },
  {
   "cell_type": "markdown",
   "metadata": {},
   "source": [
    "### Denoise"
   ]
  },
  {
   "cell_type": "code",
   "execution_count": 16,
   "metadata": {
    "collapsed": true
   },
   "outputs": [],
   "source": [
    "noise_factor = 0.5\n",
    "X_train_noisy = X_train + noise_factor * np.random.normal(loc=0.0, scale=1.0, size=X_train.shape) \n",
    "X_test_noisy = X_test + noise_factor * np.random.normal(loc=0.0, scale=1.0, size=X_test.shape) \n",
    "\n",
    "X_train_noisy = np.clip(X_train_noisy, 0., 1.)\n",
    "X_test_noisy = np.clip(X_test_noisy, 0., 1.)"
   ]
  },
  {
   "cell_type": "code",
   "execution_count": 19,
   "metadata": {},
   "outputs": [
    {
     "data": {
      "image/png": "[encoded data removed]",
      "text/plain": [
       "<Figure size 1440x144 with 10 Axes>"
      ]
     },
     "metadata": {},
     "output_type": "display_data"
    }
   ],
   "source": [
    "n = 10\n",
    "plt.figure(figsize=(20, 2))\n",
    "for i in range(n):\n",
    "    ax = plt.subplot(1, n, i+1)\n",
    "    plt.imshow(X_test_noisy[i].reshape(28, 28))\n",
    "    plt.gray()\n",
    "    ax.get_xaxis().set_visible(False)\n",
    "    ax.get_yaxis().set_visible(False)\n",
    "plt.show()"
   ]
  },
  {
   "cell_type": "code",
   "execution_count": 20,
   "metadata": {
    "collapsed": true
   },
   "outputs": [],
   "source": [
    "input_img = Input(shape=(28, 28, 1))  # adapt this if using `channels_first` image data format\n",
    "\n",
    "x = Conv2D(32, (3, 3), activation='relu', padding='same')(input_img)\n",
    "x = MaxPooling2D((2, 2), padding='same')(x)\n",
    "x = Conv2D(32, (3, 3), activation='relu', padding='same')(x)\n",
    "encoded = MaxPooling2D((2, 2), padding='same')(x)\n",
    "\n",
    "# at this point the representation is (7, 7, 32)\n",
    "\n",
    "x = Conv2D(32, (3, 3), activation='relu', padding='same')(encoded)\n",
    "x = UpSampling2D((2, 2))(x)\n",
    "x = Conv2D(32, (3, 3), activation='relu', padding='same')(x)\n",
    "x = UpSampling2D((2, 2))(x)\n",
    "decoded = Conv2D(1, (3, 3), activation='sigmoid', padding='same')(x)\n",
    "\n",
    "autoencoder = Model(input_img, decoded)\n",
    "autoencoder.compile(optimizer='adadelta', loss='binary_crossentropy')"
   ]
  },
  {
   "cell_type": "code",
   "execution_count": 22,
   "metadata": {
    "collapsed": true
   },
   "outputs": [
    {
     "name": "stdout",
     "output_type": "stream",
     "text": [
      "Train on 60000 samples, validate on 10000 samples\n",
      "Epoch 1/100\n",
      "60000/60000 [==============================] - 4s 65us/step - loss: 0.1721 - val_loss: 0.1213\n",
      "Epoch 2/100\n",
      "60000/60000 [==============================] - 4s 60us/step - loss: 0.1173 - val_loss: 0.1121\n",
      "Epoch 3/100\n",
      "60000/60000 [==============================] - 4s 62us/step - loss: 0.1110 - val_loss: 0.1094\n",
      "Epoch 4/100\n",
      "60000/60000 [==============================] - 4s 61us/step - loss: 0.1076 - val_loss: 0.1048\n",
      "Epoch 5/100\n",
      "60000/60000 [==============================] - 4s 60us/step - loss: 0.1058 - val_loss: 0.1036\n",
      "Epoch 6/100\n",
      "60000/60000 [==============================] - 4s 60us/step - loss: 0.1042 - val_loss: 0.1031\n",
      "Epoch 7/100\n",
      "60000/60000 [==============================] - 4s 60us/step - loss: 0.1031 - val_loss: 0.1014\n",
      "Epoch 8/100\n",
      "60000/60000 [==============================] - 4s 61us/step - loss: 0.1025 - val_loss: 0.1023\n",
      "Epoch 9/100\n",
      "60000/60000 [==============================] - 4s 62us/step - loss: 0.1015 - val_loss: 0.1017\n",
      "Epoch 10/100\n",
      "60000/60000 [==============================] - 4s 60us/step - loss: 0.1010 - val_loss: 0.0992\n",
      "Epoch 11/100\n",
      "60000/60000 [==============================] - 4s 60us/step - loss: 0.1005 - val_loss: 0.0988\n",
      "Epoch 12/100\n",
      "60000/60000 [==============================] - 4s 61us/step - loss: 0.1001 - val_loss: 0.0989\n",
      "Epoch 13/100\n",
      "60000/60000 [==============================] - 4s 60us/step - loss: 0.0998 - val_loss: 0.0981\n",
      "Epoch 14/100\n",
      "60000/60000 [==============================] - 4s 61us/step - loss: 0.0995 - val_loss: 0.0981\n",
      "Epoch 15/100\n",
      "60000/60000 [==============================] - 4s 60us/step - loss: 0.0992 - val_loss: 0.0982\n",
      "Epoch 16/100\n",
      "60000/60000 [==============================] - 4s 60us/step - loss: 0.0989 - val_loss: 0.0981\n",
      "Epoch 17/100\n",
      "60000/60000 [==============================] - 4s 61us/step - loss: 0.0985 - val_loss: 0.0986\n",
      "Epoch 18/100\n",
      "60000/60000 [==============================] - 4s 60us/step - loss: 0.0985 - val_loss: 0.0982\n",
      "Epoch 19/100\n",
      "60000/60000 [==============================] - 4s 61us/step - loss: 0.0983 - val_loss: 0.0976\n",
      "Epoch 20/100\n",
      "60000/60000 [==============================] - 4s 61us/step - loss: 0.0981 - val_loss: 0.0985\n",
      "Epoch 21/100\n",
      "60000/60000 [==============================] - 4s 61us/step - loss: 0.0979 - val_loss: 0.0975\n",
      "Epoch 22/100\n",
      "60000/60000 [==============================] - 4s 60us/step - loss: 0.0978 - val_loss: 0.0966\n",
      "Epoch 23/100\n",
      "60000/60000 [==============================] - 4s 61us/step - loss: 0.0976 - val_loss: 0.0976\n",
      "Epoch 24/100\n",
      "60000/60000 [==============================] - 4s 61us/step - loss: 0.0975 - val_loss: 0.0972\n",
      "Epoch 25/100\n",
      "60000/60000 [==============================] - 4s 63us/step - loss: 0.0975 - val_loss: 0.0965\n",
      "Epoch 26/100\n",
      "60000/60000 [==============================] - 4s 62us/step - loss: 0.0973 - val_loss: 0.0963\n",
      "Epoch 27/100\n",
      "60000/60000 [==============================] - 4s 62us/step - loss: 0.0973 - val_loss: 0.0981\n",
      "Epoch 28/100\n",
      "60000/60000 [==============================] - 4s 62us/step - loss: 0.0970 - val_loss: 0.0961\n",
      "Epoch 29/100\n",
      "60000/60000 [==============================] - 4s 61us/step - loss: 0.0969 - val_loss: 0.0966\n",
      "Epoch 30/100\n",
      "60000/60000 [==============================] - 4s 62us/step - loss: 0.0969 - val_loss: 0.0969\n",
      "Epoch 31/100\n",
      "60000/60000 [==============================] - 4s 62us/step - loss: 0.0968 - val_loss: 0.0962\n",
      "Epoch 32/100\n",
      "60000/60000 [==============================] - 4s 62us/step - loss: 0.0967 - val_loss: 0.0958\n",
      "Epoch 33/100\n",
      "60000/60000 [==============================] - 4s 61us/step - loss: 0.0965 - val_loss: 0.0958\n",
      "Epoch 34/100\n",
      "60000/60000 [==============================] - 4s 62us/step - loss: 0.0965 - val_loss: 0.0955\n",
      "Epoch 35/100\n",
      "60000/60000 [==============================] - 4s 62us/step - loss: 0.0964 - val_loss: 0.0957\n",
      "Epoch 36/100\n",
      "60000/60000 [==============================] - 4s 62us/step - loss: 0.0963 - val_loss: 0.0959\n",
      "Epoch 37/100\n",
      "60000/60000 [==============================] - 4s 61us/step - loss: 0.0963 - val_loss: 0.0962\n",
      "Epoch 38/100\n",
      "60000/60000 [==============================] - 4s 61us/step - loss: 0.0962 - val_loss: 0.0952\n",
      "Epoch 39/100\n",
      "60000/60000 [==============================] - 4s 61us/step - loss: 0.0962 - val_loss: 0.0954\n",
      "Epoch 40/100\n",
      "60000/60000 [==============================] - 4s 60us/step - loss: 0.0961 - val_loss: 0.0956\n",
      "Epoch 41/100\n",
      "60000/60000 [==============================] - 4s 61us/step - loss: 0.0960 - val_loss: 0.0950\n",
      "Epoch 42/100\n",
      "60000/60000 [==============================] - 4s 60us/step - loss: 0.0959 - val_loss: 0.0951\n",
      "Epoch 43/100\n",
      "60000/60000 [==============================] - 4s 60us/step - loss: 0.0959 - val_loss: 0.0956\n",
      "Epoch 44/100\n",
      "60000/60000 [==============================] - 4s 60us/step - loss: 0.0958 - val_loss: 0.0952\n",
      "Epoch 45/100\n",
      "60000/60000 [==============================] - 4s 61us/step - loss: 0.0959 - val_loss: 0.0949\n",
      "Epoch 46/100\n",
      "60000/60000 [==============================] - 4s 61us/step - loss: 0.0957 - val_loss: 0.0954\n",
      "Epoch 47/100\n",
      "60000/60000 [==============================] - 4s 60us/step - loss: 0.0957 - val_loss: 0.0949\n",
      "Epoch 48/100\n",
      "60000/60000 [==============================] - 4s 61us/step - loss: 0.0958 - val_loss: 0.0953\n",
      "Epoch 49/100\n",
      "60000/60000 [==============================] - 4s 60us/step - loss: 0.0957 - val_loss: 0.0948\n",
      "Epoch 50/100\n",
      "60000/60000 [==============================] - 4s 60us/step - loss: 0.0956 - val_loss: 0.0947\n",
      "Epoch 51/100\n",
      "60000/60000 [==============================] - 4s 61us/step - loss: 0.0955 - val_loss: 0.0947\n",
      "Epoch 52/100\n",
      "60000/60000 [==============================] - 4s 60us/step - loss: 0.0955 - val_loss: 0.0949\n",
      "Epoch 53/100\n",
      "60000/60000 [==============================] - 4s 61us/step - loss: 0.0955 - val_loss: 0.0948\n",
      "Epoch 54/100\n",
      "60000/60000 [==============================] - 4s 61us/step - loss: 0.0954 - val_loss: 0.0946\n",
      "Epoch 55/100\n",
      "60000/60000 [==============================] - 4s 60us/step - loss: 0.0954 - val_loss: 0.0948\n",
      "Epoch 56/100\n",
      "60000/60000 [==============================] - 4s 60us/step - loss: 0.0953 - val_loss: 0.0947\n",
      "Epoch 57/100\n",
      "60000/60000 [==============================] - 4s 60us/step - loss: 0.0953 - val_loss: 0.0946\n",
      "Epoch 58/100\n",
      "60000/60000 [==============================] - 4s 60us/step - loss: 0.0953 - val_loss: 0.0947\n",
      "Epoch 59/100\n",
      "60000/60000 [==============================] - 4s 61us/step - loss: 0.0953 - val_loss: 0.0952\n",
      "Epoch 60/100\n",
      "60000/60000 [==============================] - 4s 60us/step - loss: 0.0952 - val_loss: 0.0944\n",
      "Epoch 61/100\n",
      "60000/60000 [==============================] - 4s 60us/step - loss: 0.0952 - val_loss: 0.0952\n",
      "Epoch 62/100\n",
      "60000/60000 [==============================] - 4s 60us/step - loss: 0.0951 - val_loss: 0.0949\n",
      "Epoch 63/100\n",
      "60000/60000 [==============================] - 4s 60us/step - loss: 0.0951 - val_loss: 0.0944\n",
      "Epoch 64/100\n",
      "60000/60000 [==============================] - 4s 60us/step - loss: 0.0951 - val_loss: 0.0947\n",
      "Epoch 65/100\n",
      "60000/60000 [==============================] - 4s 60us/step - loss: 0.0950 - val_loss: 0.0947\n",
      "Epoch 66/100\n",
      "60000/60000 [==============================] - 4s 60us/step - loss: 0.0950 - val_loss: 0.0949\n",
      "Epoch 67/100\n",
      "60000/60000 [==============================] - 4s 61us/step - loss: 0.0950 - val_loss: 0.0944\n",
      "Epoch 68/100\n",
      "60000/60000 [==============================] - 4s 60us/step - loss: 0.0950 - val_loss: 0.0943\n",
      "Epoch 69/100\n",
      "60000/60000 [==============================] - 4s 61us/step - loss: 0.0950 - val_loss: 0.0945\n",
      "Epoch 70/100\n",
      "60000/60000 [==============================] - 4s 61us/step - loss: 0.0949 - val_loss: 0.0946\n",
      "Epoch 71/100\n",
      "60000/60000 [==============================] - 4s 60us/step - loss: 0.0949 - val_loss: 0.0943\n",
      "Epoch 72/100\n",
      "60000/60000 [==============================] - 4s 60us/step - loss: 0.0949 - val_loss: 0.0943\n",
      "Epoch 73/100\n",
      "60000/60000 [==============================] - 4s 61us/step - loss: 0.0948 - val_loss: 0.0947\n",
      "Epoch 74/100\n",
      "60000/60000 [==============================] - 4s 61us/step - loss: 0.0949 - val_loss: 0.0943\n",
      "Epoch 75/100\n",
      "60000/60000 [==============================] - 4s 60us/step - loss: 0.0948 - val_loss: 0.0943\n",
      "Epoch 76/100\n",
      "60000/60000 [==============================] - 4s 60us/step - loss: 0.0948 - val_loss: 0.0944\n",
      "Epoch 77/100\n"
     ]
    },
    {
     "name": "stdout",
     "output_type": "stream",
     "text": [
      "60000/60000 [==============================] - 4s 60us/step - loss: 0.0947 - val_loss: 0.0946\n",
      "Epoch 78/100\n",
      "60000/60000 [==============================] - 4s 60us/step - loss: 0.0947 - val_loss: 0.0941\n",
      "Epoch 79/100\n",
      "60000/60000 [==============================] - 4s 60us/step - loss: 0.0947 - val_loss: 0.0943\n",
      "Epoch 80/100\n",
      "60000/60000 [==============================] - 4s 60us/step - loss: 0.0946 - val_loss: 0.0943\n",
      "Epoch 81/100\n",
      "60000/60000 [==============================] - 4s 61us/step - loss: 0.0947 - val_loss: 0.0943\n",
      "Epoch 82/100\n",
      "60000/60000 [==============================] - 4s 62us/step - loss: 0.0946 - val_loss: 0.0940\n",
      "Epoch 83/100\n",
      "60000/60000 [==============================] - 4s 61us/step - loss: 0.0946 - val_loss: 0.0947\n",
      "Epoch 84/100\n",
      "60000/60000 [==============================] - 4s 65us/step - loss: 0.0946 - val_loss: 0.0954\n",
      "Epoch 85/100\n",
      "60000/60000 [==============================] - 4s 61us/step - loss: 0.0946 - val_loss: 0.0940\n",
      "Epoch 86/100\n",
      "60000/60000 [==============================] - 4s 61us/step - loss: 0.0945 - val_loss: 0.0943\n",
      "Epoch 87/100\n",
      "60000/60000 [==============================] - 4s 60us/step - loss: 0.0945 - val_loss: 0.0941\n",
      "Epoch 88/100\n",
      "60000/60000 [==============================] - 4s 60us/step - loss: 0.0945 - val_loss: 0.0939\n",
      "Epoch 89/100\n",
      "60000/60000 [==============================] - 4s 60us/step - loss: 0.0946 - val_loss: 0.0939\n",
      "Epoch 90/100\n",
      "60000/60000 [==============================] - 4s 61us/step - loss: 0.0944 - val_loss: 0.0942\n",
      "Epoch 91/100\n",
      "60000/60000 [==============================] - 4s 61us/step - loss: 0.0945 - val_loss: 0.0939\n",
      "Epoch 92/100\n",
      "60000/60000 [==============================] - 4s 60us/step - loss: 0.0945 - val_loss: 0.0940\n",
      "Epoch 93/100\n",
      "60000/60000 [==============================] - 4s 60us/step - loss: 0.0945 - val_loss: 0.0948\n",
      "Epoch 94/100\n",
      "60000/60000 [==============================] - 4s 60us/step - loss: 0.0944 - val_loss: 0.0939\n",
      "Epoch 95/100\n",
      "60000/60000 [==============================] - 4s 60us/step - loss: 0.0944 - val_loss: 0.0938\n",
      "Epoch 96/100\n",
      "60000/60000 [==============================] - 4s 61us/step - loss: 0.0943 - val_loss: 0.0940\n",
      "Epoch 97/100\n",
      "60000/60000 [==============================] - 4s 60us/step - loss: 0.0944 - val_loss: 0.0941\n",
      "Epoch 98/100\n",
      "60000/60000 [==============================] - 4s 60us/step - loss: 0.0943 - val_loss: 0.0938\n",
      "Epoch 99/100\n",
      "60000/60000 [==============================] - 4s 60us/step - loss: 0.0943 - val_loss: 0.0946\n",
      "Epoch 100/100\n",
      "60000/60000 [==============================] - 4s 61us/step - loss: 0.0943 - val_loss: 0.0942\n"
     ]
    },
    {
     "data": {
      "text/plain": [
       "<keras.callbacks.History at 0x20e5c55d0f0>"
      ]
     },
     "execution_count": 22,
     "metadata": {},
     "output_type": "execute_result"
    }
   ],
   "source": [
    "autoencoder.fit(X_train_noisy, X_train,\n",
    "                epochs=100,\n",
    "                batch_size=128,\n",
    "                shuffle=True,\n",
    "                validation_data=(X_test_noisy, X_test),\n",
    "                callbacks=[TensorBoard(log_dir='./tmp/tb', histogram_freq=0, write_graph=False)])"
   ]
  },
  {
   "cell_type": "code",
   "execution_count": 23,
   "metadata": {},
   "outputs": [
    {
     "data": {
      "image/png": "[encoded data removed]",
      "text/plain": [
       "<Figure size 1440x288 with 20 Axes>"
      ]
     },
     "metadata": {},
     "output_type": "display_data"
    }
   ],
   "source": [
    "decoded_imgs = autoencoder.predict(X_test_noisy)\n",
    "\n",
    "n = 10\n",
    "plt.figure(figsize=(20, 4))\n",
    "for i in range(n):\n",
    "    # display original\n",
    "    ax = plt.subplot(2, n, i+1)\n",
    "    plt.imshow(X_test_noisy[i].reshape(28, 28))\n",
    "    plt.gray()\n",
    "    ax.get_xaxis().set_visible(False)\n",
    "    ax.get_yaxis().set_visible(False)\n",
    "\n",
    "    # display reconstruction\n",
    "    ax = plt.subplot(2, n, i + n+1)\n",
    "    plt.imshow(decoded_imgs[i].reshape(28, 28))\n",
    "    plt.gray()\n",
    "    ax.get_xaxis().set_visible(False)\n",
    "    ax.get_yaxis().set_visible(False)\n",
    "plt.show()"
   ]
  },
  {
   "cell_type": "code",
   "execution_count": null,
   "metadata": {
    "collapsed": true
   },
   "outputs": [],
   "source": []
  }
 ],
 "metadata": {
  "kernelspec": {
   "display_name": "Python 3",
   "language": "python",
   "name": "python3"
  },
  "language_info": {
   "codemirror_mode": {
    "name": "ipython",
    "version": 3
   },
   "file_extension": ".py",
   "mimetype": "text/x-python",
   "name": "python",
   "nbconvert_exporter": "python",
   "pygments_lexer": "ipython3",
   "version": "3.6.2"
  }
 },
 "nbformat": 4,
 "nbformat_minor": 2
}
